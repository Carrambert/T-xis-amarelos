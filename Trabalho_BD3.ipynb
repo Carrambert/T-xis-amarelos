{
  "cells": [
    {
      "cell_type": "markdown",
      "metadata": {
        "id": "view-in-github",
        "colab_type": "text"
      },
      "source": [
        "<a href=\"https://colab.research.google.com/github/Carrambert/T-xis-amarelos/blob/main/Trabalho_BD3.ipynb\" target=\"_parent\"><img src=\"https://colab.research.google.com/assets/colab-badge.svg\" alt=\"Open In Colab\"/></a>"
      ]
    },
    {
      "cell_type": "markdown",
      "metadata": {
        "id": "ZlosCIWQpWqr"
      },
      "source": [
        "# Introdução\n",
        "Integrantes do grupo: Carrambert Albuquerque, Igor Deo Alves, João Victor de Carvalho Mansur, Logan Miranda, Roger Castellar\n",
        "\n",
        "\n",
        "\n",
        "Esse é o trabalho final da disciplina de Banco de Dados não convencionais. Nessa entrega, nós devemos realizar uma análise em cima dos dados das corridas de táxis amarelos da cidade de Nova Iorque no ano de 2022.\n",
        "<br>\n",
        "Nós temos a opção de escolher uma dentre dois conjuntos de análises:\n",
        "<br>\n",
        "1. Quais os top-5 destinos (regiões) por taxistas por mês durante o\n",
        "ano de 2022? Acumule todos os top-5 destinos e mostre a\n",
        "distribuição (número de taxistas) que os frequentaram em cada\n",
        "mês do ano de 2022. Mostre a quantidade de corridas para os\n",
        "top-5 destinos e suas adjacências imediatas (regiões que fazem\n",
        "fronteira) por mês para o ano de 2022.\n",
        "2. Qual o ganho médio por milha por mês por cada taxista durante\n",
        "todo o ano de 2022? Qual a taxa de corrida canceladas por mês\n",
        "para os taxistas que possuem o ganho médio por milha superior a\n",
        "média geral para o ano de 2022? Qual o ganho médio para os\n",
        "top-10 taxistas que mais rodaram por mês durante o ano de\n",
        "2022? Suponha que incida uma taxa de 2% sobre cartão de\n",
        "crédito. Refaça as três análises anteriores.\n",
        "<br>\n",
        "\n",
        "### Nós optamos pela análise 2\n",
        "O desenvolvimento da solução para análise será descrita completamente nesse notebook. Sendo efetuada em alguns passos:\n",
        "1. Extração\n",
        "2. Limpeza dos dados\n",
        "3. Consulta"
      ]
    },
    {
      "cell_type": "markdown",
      "metadata": {
        "id": "nufI85G0c-Fw"
      },
      "source": [
        "**OBS**: Professor, note que pode existir algumas partes do código que estão cortadas no relatório, por conta da célula ser muito extensa, e isso vem padrão da exportação do notebook como PDF. Esses cortes não prejudicam o entendimento das consultas realizadas, porém se ainda desejar visualizar os códigos na sua totalidade, eles estão em perfeito estado no arquivo .py ou .ipynb, que também foram encaminhados ao senhor."
      ]
    },
    {
      "cell_type": "markdown",
      "metadata": {
        "id": "mKmLrV1KqTd0"
      },
      "source": [
        "## 1: Extração\n",
        "O dataset está disponibilizado no [site](https://www.nyc.gov/site/tlc/about/tlc-trip-record-data.page) da comissão de táxis e limousines de Nova Iorque. Os arquivos estão separados por ano/mês em formato .PARQUET.\n",
        "<br>\n",
        "Para realizar a extração, utilizamos a biblioteca requests junto do beatifulsoup4 para fazer um simples webcrawler desses documentos e armazená-los no disco."
      ]
    },
    {
      "cell_type": "code",
      "execution_count": null,
      "metadata": {
        "colab": {
          "base_uri": "https://localhost:8080/"
        },
        "id": "J43poGSPIpVw",
        "outputId": "ac069d64-bfc8-405c-dbd5-f51d35871777"
      },
      "outputs": [
        {
          "name": "stdout",
          "output_type": "stream",
          "text": [
            "Baixando https://d37ci6vzurychx.cloudfront.net/trip-data/yellow_tripdata_2022-01.parquet...\n",
            "Arquivo tlc_trip_data/yellow_tripdata_2022-01.parquet baixado com sucesso!\n",
            "Baixando https://d37ci6vzurychx.cloudfront.net/trip-data/yellow_tripdata_2022-02.parquet...\n",
            "Arquivo tlc_trip_data/yellow_tripdata_2022-02.parquet baixado com sucesso!\n",
            "Baixando https://d37ci6vzurychx.cloudfront.net/trip-data/yellow_tripdata_2022-03.parquet...\n",
            "Arquivo tlc_trip_data/yellow_tripdata_2022-03.parquet baixado com sucesso!\n",
            "Baixando https://d37ci6vzurychx.cloudfront.net/trip-data/yellow_tripdata_2022-04.parquet...\n",
            "Arquivo tlc_trip_data/yellow_tripdata_2022-04.parquet baixado com sucesso!\n",
            "Baixando https://d37ci6vzurychx.cloudfront.net/trip-data/yellow_tripdata_2022-05.parquet...\n",
            "Arquivo tlc_trip_data/yellow_tripdata_2022-05.parquet baixado com sucesso!\n",
            "Baixando https://d37ci6vzurychx.cloudfront.net/trip-data/yellow_tripdata_2022-06.parquet...\n",
            "Arquivo tlc_trip_data/yellow_tripdata_2022-06.parquet baixado com sucesso!\n",
            "Baixando https://d37ci6vzurychx.cloudfront.net/trip-data/yellow_tripdata_2022-07.parquet...\n",
            "Arquivo tlc_trip_data/yellow_tripdata_2022-07.parquet baixado com sucesso!\n",
            "Baixando https://d37ci6vzurychx.cloudfront.net/trip-data/yellow_tripdata_2022-08.parquet...\n",
            "Arquivo tlc_trip_data/yellow_tripdata_2022-08.parquet baixado com sucesso!\n",
            "Baixando https://d37ci6vzurychx.cloudfront.net/trip-data/yellow_tripdata_2022-09.parquet...\n",
            "Arquivo tlc_trip_data/yellow_tripdata_2022-09.parquet baixado com sucesso!\n",
            "Baixando https://d37ci6vzurychx.cloudfront.net/trip-data/yellow_tripdata_2022-10.parquet...\n",
            "Arquivo tlc_trip_data/yellow_tripdata_2022-10.parquet baixado com sucesso!\n",
            "Baixando https://d37ci6vzurychx.cloudfront.net/trip-data/yellow_tripdata_2022-11.parquet...\n",
            "Arquivo tlc_trip_data/yellow_tripdata_2022-11.parquet baixado com sucesso!\n",
            "Baixando https://d37ci6vzurychx.cloudfront.net/trip-data/yellow_tripdata_2022-12.parquet...\n",
            "Arquivo tlc_trip_data/yellow_tripdata_2022-12.parquet baixado com sucesso!\n"
          ]
        }
      ],
      "source": [
        "import requests\n",
        "from bs4 import BeautifulSoup\n",
        "import os\n",
        "\n",
        "def download_file_to_folder(url, folder):\n",
        "    local_filename = os.path.join(folder, url.split('/')[-1])\n",
        "    with requests.get(url, stream=True) as r:\n",
        "        r.raise_for_status()\n",
        "        with open(local_filename, 'wb') as f:\n",
        "            for chunk in r.iter_content(chunk_size=8192):\n",
        "                f.write(chunk)\n",
        "    return local_filename\n",
        "\n",
        "url = \"https://www.nyc.gov/site/tlc/about/tlc-trip-record-data.page\"\n",
        "response = requests.get(url)\n",
        "response.raise_for_status()\n",
        "\n",
        "soup = BeautifulSoup(response.content, 'html.parser')\n",
        "div_faq2022 = soup.find('div', id='faq2022')\n",
        "links = div_faq2022.find_all('a', href=True)\n",
        "os.makedirs('tlc_trip_data', exist_ok=True)\n",
        "\n",
        "for link in links:\n",
        "    file_url = link['href']\n",
        "    if 'yellow' in file_url and file_url.startswith('http'):\n",
        "        print(f'Baixando {file_url}...')\n",
        "        saved_file = download_file_to_folder(file_url, 'tlc_trip_data')\n",
        "        print(f'Arquivo {saved_file} baixado com sucesso!')"
      ]
    },
    {
      "cell_type": "markdown",
      "metadata": {
        "id": "f83FiGBd0AEr"
      },
      "source": [
        "## 2: Limpeza"
      ]
    },
    {
      "cell_type": "markdown",
      "metadata": {
        "id": "O9OSl0WDsWCV"
      },
      "source": [
        "### Instalando dependências e inicializando o Spark\n",
        "Para seguir o processo, precisamos preparar o ambiente para rodar o Spark. Instalando os pacotes necessários, inicializando o serviço do spark e uma sessão local no python."
      ]
    },
    {
      "cell_type": "code",
      "execution_count": null,
      "metadata": {
        "colab": {
          "base_uri": "https://localhost:8080/"
        },
        "id": "CpUIaa-BTJ3o",
        "outputId": "e6118cb9-6389-442f-d797-a935a90cc214"
      },
      "outputs": [
        {
          "name": "stdout",
          "output_type": "stream",
          "text": [
            "Collecting spark-nlp\n",
            "  Downloading spark_nlp-5.4.0-py2.py3-none-any.whl (579 kB)\n",
            "\u001b[2K     \u001b[90m━━━━━━━━━━━━━━━━━━━━━━━━━━━━━━━━━━━━━━━━\u001b[0m \u001b[32m579.2/579.2 kB\u001b[0m \u001b[31m9.6 MB/s\u001b[0m eta \u001b[36m0:00:00\u001b[0m\n",
            "\u001b[?25hInstalling collected packages: spark-nlp\n",
            "Successfully installed spark-nlp-5.4.0\n"
          ]
        }
      ],
      "source": [
        "#Instalar as dependências\n",
        "\n",
        "#Instalar Java 8\n",
        "!apt-get install openjdk-8-jdk-headless -qq > /dev/null\n",
        "\n",
        "#Realizar o download do Spark\n",
        "!wget -q https://dlcdn.apache.org/spark/spark-3.4.3/spark-3.4.3-bin-hadoop3.tgz\n",
        "\n",
        "#Descompactar o arquivo baixado\n",
        "!tar xf spark-3.4.3-bin-hadoop3.tgz\n",
        "\n",
        "#Instalando a findspark\n",
        "!pip install -q findspark\n",
        "\n",
        "!pip install spark-nlp\n",
        "\n",
        "#Configurar as variáveis de ambiente\n",
        "\n",
        "#Importando a biblioteca os\n",
        "import os\n",
        "\n",
        "#Definindo a variável de ambiente do Java\n",
        "os.environ[\"JAVA_HOME\"] = \"/usr/lib/jvm/java-8-openjdk-amd64\"\n",
        "\n",
        "#Definindo a variável de ambiente do Spark\n",
        "os.environ[\"SPARK_HOME\"] = \"/content/spark-3.4.3-bin-hadoop3\"\n",
        "\n",
        "#Importando a findspark\n",
        "import findspark\n",
        "\n",
        "#Iniciando o findspark\n",
        "findspark.init('spark-3.4.3-bin-hadoop3')\n",
        "\n",
        "# iniciar uma sessão local\n",
        "\n",
        "import sparknlp\n",
        "spark = sparknlp.start()"
      ]
    },
    {
      "cell_type": "markdown",
      "metadata": {
        "id": "RXP3jdPXt5rZ"
      },
      "source": [
        "Com todas as dependências instaladas e a sessão do Spark iniciada, podemos carregar todos os arquivos .parquet baixados em um dataframe para realizar as operações."
      ]
    },
    {
      "cell_type": "code",
      "execution_count": null,
      "metadata": {
        "colab": {
          "base_uri": "https://localhost:8080/"
        },
        "id": "yWWO94aSTiK3",
        "outputId": "20981961-0f48-499d-fc36-a9a7ec74c3b1"
      },
      "outputs": [
        {
          "name": "stdout",
          "output_type": "stream",
          "text": [
            "+--------+--------------------+---------------------+---------------+-------------+----------+------------------+------------+------------+------------+-----------+-----+-------+----------+------------+---------------------+------------+--------------------+-----------+\n",
            "|VendorID|tpep_pickup_datetime|tpep_dropoff_datetime|passenger_count|trip_distance|RatecodeID|store_and_fwd_flag|PULocationID|DOLocationID|payment_type|fare_amount|extra|mta_tax|tip_amount|tolls_amount|improvement_surcharge|total_amount|congestion_surcharge|airport_fee|\n",
            "+--------+--------------------+---------------------+---------------+-------------+----------+------------------+------------+------------+------------+-----------+-----+-------+----------+------------+---------------------+------------+--------------------+-----------+\n",
            "|       1| 2022-10-01 00:03:41|  2022-10-01 00:18:39|            1.0|          1.7|       1.0|                 N|         249|         107|           1|        9.5|  3.0|    0.5|      2.65|         0.0|                  0.3|       15.95|                 2.5|        0.0|\n",
            "|       2| 2022-10-01 00:14:30|  2022-10-01 00:19:48|            2.0|         0.72|       1.0|                 N|         151|         238|           2|        5.5|  0.5|    0.5|       0.0|         0.0|                  0.3|         9.3|                 2.5|        0.0|\n",
            "|       2| 2022-10-01 00:27:13|  2022-10-01 00:37:41|            1.0|         1.74|       1.0|                 N|         238|         166|           1|        9.0|  0.5|    0.5|      2.06|         0.0|                  0.3|       12.36|                 0.0|        0.0|\n",
            "|       1| 2022-10-01 00:32:53|  2022-10-01 00:38:55|            0.0|          1.3|       1.0|                 N|         142|         239|           1|        6.5|  3.0|    0.5|      2.05|         0.0|                  0.3|       12.35|                 2.5|        0.0|\n",
            "|       1| 2022-10-01 00:44:55|  2022-10-01 00:50:21|            0.0|          1.0|       1.0|                 N|         238|         166|           1|        6.0|  0.5|    0.5|       1.8|         0.0|                  0.3|         9.1|                 0.0|        0.0|\n",
            "|       1| 2022-10-01 00:22:52|  2022-10-01 00:52:14|            1.0|          6.8|       1.0|                 Y|         186|          41|           2|       25.5|  3.0|    0.5|       0.0|         0.0|                  0.3|        29.3|                 2.5|        0.0|\n",
            "|       2| 2022-10-01 00:33:19|  2022-10-01 00:44:51|            3.0|         1.88|       1.0|                 N|         162|         145|           2|       10.5|  0.5|    0.5|       0.0|         0.0|                  0.3|        14.3|                 2.5|        0.0|\n",
            "|       1| 2022-10-01 00:02:42|  2022-10-01 00:50:01|            1.0|         12.2|       1.0|                 N|         100|          22|           1|       41.0|  3.0|    0.5|       3.0|         0.0|                  0.3|        47.8|                 2.5|        0.0|\n",
            "|       2| 2022-10-01 00:06:35|  2022-10-01 00:24:38|            1.0|         7.79|       1.0|                 N|         138|         112|           1|       23.5|  0.5|    0.5|      4.96|         0.0|                  0.3|       31.01|                 0.0|       1.25|\n",
            "|       2| 2022-10-01 00:29:25|  2022-10-01 00:43:15|            1.0|         4.72|       1.0|                 N|         145|          75|           1|       14.5|  0.5|    0.5|       1.5|         0.0|                  0.3|        19.8|                 2.5|        0.0|\n",
            "|       1| 2022-10-01 00:01:55|  2022-10-01 00:20:16|            1.0|          8.8|       1.0|                 N|         138|         236|           1|       26.0| 4.25|    0.5|      5.64|        6.55|                  0.3|       43.24|                 2.5|       1.25|\n",
            "|       1| 2022-10-01 00:27:48|  2022-10-01 00:59:50|            1.0|          8.6|       1.0|                 N|         140|          36|           1|       29.5|  3.0|    0.5|       6.0|         0.0|                  0.3|        39.3|                 2.5|        0.0|\n",
            "|       1| 2022-10-01 00:05:27|  2022-10-01 00:35:33|            4.0|         12.0|       1.0|                 N|          70|         230|           2|       36.5|  3.0|    0.5|       0.0|        6.55|                  0.3|       46.85|                 2.5|        0.0|\n",
            "|       1| 2022-10-01 00:38:53|  2022-10-01 00:48:13|            2.0|          1.4|       1.0|                 N|         230|          68|           1|        8.5|  3.0|    0.5|      3.05|         0.0|                  0.3|       15.35|                 2.5|        0.0|\n",
            "|       2| 2022-10-01 00:24:40|  2022-10-01 00:30:23|            1.0|         0.76|       1.0|                 N|          79|         113|           1|        5.5|  0.5|    0.5|      0.93|         0.0|                  0.3|       10.23|                 2.5|        0.0|\n",
            "|       2| 2022-10-01 00:32:22|  2022-10-01 00:58:55|            1.0|          7.8|       1.0|                 N|         113|         116|           1|       26.5|  0.5|    0.5|      6.06|         0.0|                  0.3|       36.36|                 2.5|        0.0|\n",
            "|       2| 2022-10-01 00:17:08|  2022-10-01 00:30:50|            2.0|          2.9|       1.0|                 N|          13|         249|           1|       12.0|  0.5|    0.5|       2.8|         0.0|                  0.3|        18.6|                 2.5|        0.0|\n",
            "|       2| 2022-10-01 00:32:14|  2022-10-01 00:44:35|            1.0|         1.71|       1.0|                 N|         249|          79|           1|        9.0|  0.5|    0.5|      2.56|         0.0|                  0.3|       15.36|                 2.5|        0.0|\n",
            "|       2| 2022-10-01 00:09:24|  2022-10-01 00:21:45|            1.0|          2.3|       1.0|                 N|          48|         249|           1|       10.0|  0.5|    0.5|      2.76|         0.0|                  0.3|       16.56|                 2.5|        0.0|\n",
            "|       2| 2022-10-01 00:22:29|  2022-10-01 00:33:53|            2.0|         1.67|       1.0|                 N|         249|         224|           1|        8.5|  0.5|    0.5|      2.46|         0.0|                  0.3|       14.76|                 2.5|        0.0|\n",
            "+--------+--------------------+---------------------+---------------+-------------+----------+------------------+------------+------------+------------+-----------+-----+-------+----------+------------+---------------------+------------+--------------------+-----------+\n",
            "only showing top 20 rows\n",
            "\n"
          ]
        }
      ],
      "source": [
        "data = spark.read.parquet(\"tlc_trip_data\")\n",
        "data.show()"
      ]
    },
    {
      "cell_type": "code",
      "execution_count": null,
      "metadata": {
        "id": "9VX01mJ6FjEj"
      },
      "outputs": [],
      "source": [
        "from pyspark.sql.functions import  monotonically_increasing_id\n",
        "\n",
        "data = data.select(\"VendorID\", \"tpep_pickup_datetime\", \"tpep_dropoff_datetime\",\n",
        "                   \"trip_distance\", \"payment_type\", \"fare_amount\", \"extra\",\n",
        "                   \"mta_tax\",\"tip_amount\", \"tolls_amount\",\n",
        "                   \"improvement_surcharge\",\"total_amount\",\n",
        "                   \"congestion_surcharge\", \"airport_fee\")\n",
        "data = data.withColumn(\"index\", monotonically_increasing_id())\n",
        "data.createOrReplaceTempView(\"tlc_trip_data\")"
      ]
    },
    {
      "cell_type": "markdown",
      "metadata": {
        "id": "2354-4RluKJj"
      },
      "source": [
        "Foi criada uma view temporaria chamada \"tlc_trip_data\" com o dataset original. Essa view será utilizada para realizarmos análises em cima dos dados sujos a fim de descobrir a melhor maneira de limparmos. Adicionamos uma coluna de index para que possamos identificar uma corrida unicamente, que será utilizada posteriormente em nosso ETL.\n",
        "\n"
      ]
    },
    {
      "cell_type": "code",
      "execution_count": null,
      "metadata": {
        "colab": {
          "base_uri": "https://localhost:8080/"
        },
        "id": "30HJP1hFW83R",
        "outputId": "9109e257-8d37-4291-9d7d-a282ce045cbb"
      },
      "outputs": [
        {
          "name": "stdout",
          "output_type": "stream",
          "text": [
            "root\n",
            " |-- VendorID: long (nullable = true)\n",
            " |-- tpep_pickup_datetime: timestamp_ntz (nullable = true)\n",
            " |-- tpep_dropoff_datetime: timestamp_ntz (nullable = true)\n",
            " |-- trip_distance: double (nullable = true)\n",
            " |-- payment_type: long (nullable = true)\n",
            " |-- fare_amount: double (nullable = true)\n",
            " |-- extra: double (nullable = true)\n",
            " |-- mta_tax: double (nullable = true)\n",
            " |-- tip_amount: double (nullable = true)\n",
            " |-- tolls_amount: double (nullable = true)\n",
            " |-- improvement_surcharge: double (nullable = true)\n",
            " |-- total_amount: double (nullable = true)\n",
            " |-- congestion_surcharge: double (nullable = true)\n",
            " |-- airport_fee: double (nullable = true)\n",
            " |-- index: long (nullable = false)\n",
            "\n"
          ]
        }
      ],
      "source": [
        "data.printSchema()"
      ]
    },
    {
      "cell_type": "markdown",
      "metadata": {
        "id": "HwHTsoUJwmVT"
      },
      "source": [
        "### Considerações\n",
        "\n"
      ]
    },
    {
      "cell_type": "markdown",
      "metadata": {
        "id": "pW1Wq_9Wzg-U"
      },
      "source": [
        "#### VendorID\n",
        "\n",
        "A análise 2 pergunta sobre quantidade de taxistas, porém por razões de confidencialidade, o dataset não disponibiliza um identificador único para um taxista especificamente, somente sua coperativa, que é o VendorID.\n",
        "\n",
        "\n",
        "Analisando a distribuição dos VendorID no dataset, podemos observar que mais de 99.1% das corridas foram realizadas pelos VendorID 1 e 2."
      ]
    },
    {
      "cell_type": "code",
      "execution_count": null,
      "metadata": {
        "colab": {
          "base_uri": "https://localhost:8080/"
        },
        "id": "1W5ThiolwwkA",
        "outputId": "efb207dd-70d6-49c4-92cc-0360815e1a34"
      },
      "outputs": [
        {
          "name": "stdout",
          "output_type": "stream",
          "text": [
            "+--------+--------+-----------------+\n",
            "|VendorID|   total|     distribution|\n",
            "+--------+--------+-----------------+\n",
            "|       2|28325293|71.42733256307769|\n",
            "|       1|11271061|28.42201217073853|\n",
            "|       6|   59601| 0.15029466590485|\n",
            "|       5|     143| 0.00036060027893|\n",
            "+--------+--------+-----------------+\n",
            "\n"
          ]
        }
      ],
      "source": [
        "spark.sql(\"\"\"\n",
        "    SELECT VendorID,\n",
        "           COUNT(*) as total,\n",
        "           (COUNT(*) * 100.0 / SUM(COUNT(*)) OVER ()) AS distribution\n",
        "    FROM tlc_trip_data\n",
        "    GROUP BY VendorID order by total desc\n",
        "\"\"\").show()"
      ]
    },
    {
      "cell_type": "markdown",
      "metadata": {
        "id": "cKslPTQhzggy"
      },
      "source": [
        "#### payment_type\n",
        "A fim de responder a análise 2, precisamos classificar corretamente as corridas. No [dicionário](https://www.nyc.gov/assets/tlc/downloads/pdf/data_dictionary_trip_records_yellow.pdf) do dataset está especificado os tipos de pagamento, porém os números contidos no dicionário e os números existentes no dataset não condizem."
      ]
    },
    {
      "cell_type": "code",
      "execution_count": null,
      "metadata": {
        "colab": {
          "base_uri": "https://localhost:8080/"
        },
        "id": "dG5rprR-Vemc",
        "outputId": "d266704e-8f2e-4cdd-986e-f0343aeaf2f8"
      },
      "outputs": [
        {
          "name": "stdout",
          "output_type": "stream",
          "text": [
            "+------------+--------+-----------------+\n",
            "|payment_type|   total|     distribution|\n",
            "+------------+--------+-----------------+\n",
            "|           1|30085763|75.86667503192069|\n",
            "|           2| 7763339|19.57665880289079|\n",
            "|           0| 1368303| 3.45042268152555|\n",
            "|           4|  244364| 0.61620787804186|\n",
            "|           3|  194323| 0.49002047553947|\n",
            "|           5|       6| 0.00001513008163|\n",
            "+------------+--------+-----------------+\n",
            "\n"
          ]
        }
      ],
      "source": [
        "spark.sql(\"\"\"\n",
        "  SELECT payment_type,\n",
        "         count(*) as total,\n",
        "         (count(*) * 100.0 / sum(count(*)) OVER()) as distribution\n",
        "  FROM tlc_trip_data\n",
        "  GROUP BY payment_type order by total desc\n",
        "  \"\"\").show()"
      ]
    },
    {
      "cell_type": "markdown",
      "metadata": {
        "id": "78y5ufmwlPPU"
      },
      "source": [
        "### Corridas Canceladas\n",
        "Para atender a uma das perguntas da análise 2. Devemos classificar corretamente as corridas canceladas. Portanto precisamos definir uma regra do que seria uma corrida cancelada.\n",
        "\n"
      ]
    },
    {
      "cell_type": "markdown",
      "metadata": {
        "id": "4KfMBgwaqOZN"
      },
      "source": [
        "\n",
        "Observamos com a consulta abaixo que existem linhas no dataset que representam a mesma corrida, porém uma possui os valores negativos e a outra possui os valores positivos. Isso faz sentido para uma corrida ser considerada como cancelada, pois é como se houvesse o crédito e o débito registrado, resultando em um ganho 0. Porém, não podemos deixar essa corrida duplicada no nosso dataset, portanto iremos agrupar essas linhas em uma só, considerando ela como corrida cancelada."
      ]
    },
    {
      "cell_type": "code",
      "execution_count": null,
      "metadata": {
        "colab": {
          "background_save": true
        },
        "id": "ENRxBCY6i_Aa",
        "outputId": "6e7cef30-a3c1-470d-b980-fc0ef1508683"
      },
      "outputs": [
        {
          "name": "stderr",
          "output_type": "stream",
          "text": [
            "ERROR:root:KeyboardInterrupt while sending command.\n",
            "Traceback (most recent call last):\n",
            "  File \"spark-3.4.3-bin-hadoop3/python/lib/py4j-0.10.9.7-src.zip/py4j/java_gateway.py\", line 1038, in send_command\n",
            "    response = connection.send_command(command)\n",
            "  File \"spark-3.4.3-bin-hadoop3/python/lib/py4j-0.10.9.7-src.zip/py4j/clientserver.py\", line 511, in send_command\n",
            "    answer = smart_decode(self.stream.readline()[:-1])\n",
            "  File \"/usr/lib/python3.10/socket.py\", line 705, in readinto\n",
            "    return self._sock.recv_into(b)\n",
            "KeyboardInterrupt\n"
          ]
        },
        {
          "ename": "KeyboardInterrupt",
          "evalue": "",
          "output_type": "error",
          "traceback": [
            "\u001b[0;31m---------------------------------------------------------------------------\u001b[0m",
            "\u001b[0;31mKeyboardInterrupt\u001b[0m                         Traceback (most recent call last)",
            "\u001b[0;32m<ipython-input-8-365cab1b2992>\u001b[0m in \u001b[0;36m<cell line: 1>\u001b[0;34m()\u001b[0m\n\u001b[1;32m     23\u001b[0m        \u001b[0mgroup\u001b[0m \u001b[0mby\u001b[0m \u001b[0mpayment_type\u001b[0m\u001b[0;34m\u001b[0m\u001b[0;34m\u001b[0m\u001b[0m\n\u001b[1;32m     24\u001b[0m        \u001b[0morder\u001b[0m \u001b[0mby\u001b[0m \u001b[0mcount\u001b[0m\u001b[0;34m(\u001b[0m\u001b[0;34m*\u001b[0m\u001b[0;34m)\u001b[0m \u001b[0mdesc\u001b[0m\u001b[0;34m\u001b[0m\u001b[0;34m\u001b[0m\u001b[0m\n\u001b[0;32m---> 25\u001b[0;31m \"\"\").show()\n\u001b[0m",
            "\u001b[0;32m/content/spark-3.4.3-bin-hadoop3/python/pyspark/sql/dataframe.py\u001b[0m in \u001b[0;36mshow\u001b[0;34m(self, n, truncate, vertical)\u001b[0m\n\u001b[1;32m    899\u001b[0m \u001b[0;34m\u001b[0m\u001b[0m\n\u001b[1;32m    900\u001b[0m         \u001b[0;32mif\u001b[0m \u001b[0misinstance\u001b[0m\u001b[0;34m(\u001b[0m\u001b[0mtruncate\u001b[0m\u001b[0;34m,\u001b[0m \u001b[0mbool\u001b[0m\u001b[0;34m)\u001b[0m \u001b[0;32mand\u001b[0m \u001b[0mtruncate\u001b[0m\u001b[0;34m:\u001b[0m\u001b[0;34m\u001b[0m\u001b[0;34m\u001b[0m\u001b[0m\n\u001b[0;32m--> 901\u001b[0;31m             \u001b[0mprint\u001b[0m\u001b[0;34m(\u001b[0m\u001b[0mself\u001b[0m\u001b[0;34m.\u001b[0m\u001b[0m_jdf\u001b[0m\u001b[0;34m.\u001b[0m\u001b[0mshowString\u001b[0m\u001b[0;34m(\u001b[0m\u001b[0mn\u001b[0m\u001b[0;34m,\u001b[0m \u001b[0;36m20\u001b[0m\u001b[0;34m,\u001b[0m \u001b[0mvertical\u001b[0m\u001b[0;34m)\u001b[0m\u001b[0;34m)\u001b[0m\u001b[0;34m\u001b[0m\u001b[0;34m\u001b[0m\u001b[0m\n\u001b[0m\u001b[1;32m    902\u001b[0m         \u001b[0;32melse\u001b[0m\u001b[0;34m:\u001b[0m\u001b[0;34m\u001b[0m\u001b[0;34m\u001b[0m\u001b[0m\n\u001b[1;32m    903\u001b[0m             \u001b[0;32mtry\u001b[0m\u001b[0;34m:\u001b[0m\u001b[0;34m\u001b[0m\u001b[0;34m\u001b[0m\u001b[0m\n",
            "\u001b[0;32mspark-3.4.3-bin-hadoop3/python/lib/py4j-0.10.9.7-src.zip/py4j/java_gateway.py\u001b[0m in \u001b[0;36m__call__\u001b[0;34m(self, *args)\u001b[0m\n\u001b[1;32m   1319\u001b[0m             \u001b[0mproto\u001b[0m\u001b[0;34m.\u001b[0m\u001b[0mEND_COMMAND_PART\u001b[0m\u001b[0;34m\u001b[0m\u001b[0;34m\u001b[0m\u001b[0m\n\u001b[1;32m   1320\u001b[0m \u001b[0;34m\u001b[0m\u001b[0m\n\u001b[0;32m-> 1321\u001b[0;31m         \u001b[0manswer\u001b[0m \u001b[0;34m=\u001b[0m \u001b[0mself\u001b[0m\u001b[0;34m.\u001b[0m\u001b[0mgateway_client\u001b[0m\u001b[0;34m.\u001b[0m\u001b[0msend_command\u001b[0m\u001b[0;34m(\u001b[0m\u001b[0mcommand\u001b[0m\u001b[0;34m)\u001b[0m\u001b[0;34m\u001b[0m\u001b[0;34m\u001b[0m\u001b[0m\n\u001b[0m\u001b[1;32m   1322\u001b[0m         return_value = get_return_value(\n\u001b[1;32m   1323\u001b[0m             answer, self.gateway_client, self.target_id, self.name)\n",
            "\u001b[0;32mspark-3.4.3-bin-hadoop3/python/lib/py4j-0.10.9.7-src.zip/py4j/java_gateway.py\u001b[0m in \u001b[0;36msend_command\u001b[0;34m(self, command, retry, binary)\u001b[0m\n\u001b[1;32m   1036\u001b[0m         \u001b[0mconnection\u001b[0m \u001b[0;34m=\u001b[0m \u001b[0mself\u001b[0m\u001b[0;34m.\u001b[0m\u001b[0m_get_connection\u001b[0m\u001b[0;34m(\u001b[0m\u001b[0;34m)\u001b[0m\u001b[0;34m\u001b[0m\u001b[0;34m\u001b[0m\u001b[0m\n\u001b[1;32m   1037\u001b[0m         \u001b[0;32mtry\u001b[0m\u001b[0;34m:\u001b[0m\u001b[0;34m\u001b[0m\u001b[0;34m\u001b[0m\u001b[0m\n\u001b[0;32m-> 1038\u001b[0;31m             \u001b[0mresponse\u001b[0m \u001b[0;34m=\u001b[0m \u001b[0mconnection\u001b[0m\u001b[0;34m.\u001b[0m\u001b[0msend_command\u001b[0m\u001b[0;34m(\u001b[0m\u001b[0mcommand\u001b[0m\u001b[0;34m)\u001b[0m\u001b[0;34m\u001b[0m\u001b[0;34m\u001b[0m\u001b[0m\n\u001b[0m\u001b[1;32m   1039\u001b[0m             \u001b[0;32mif\u001b[0m \u001b[0mbinary\u001b[0m\u001b[0;34m:\u001b[0m\u001b[0;34m\u001b[0m\u001b[0;34m\u001b[0m\u001b[0m\n\u001b[1;32m   1040\u001b[0m                 \u001b[0;32mreturn\u001b[0m \u001b[0mresponse\u001b[0m\u001b[0;34m,\u001b[0m \u001b[0mself\u001b[0m\u001b[0;34m.\u001b[0m\u001b[0m_create_connection_guard\u001b[0m\u001b[0;34m(\u001b[0m\u001b[0mconnection\u001b[0m\u001b[0;34m)\u001b[0m\u001b[0;34m\u001b[0m\u001b[0;34m\u001b[0m\u001b[0m\n",
            "\u001b[0;32mspark-3.4.3-bin-hadoop3/python/lib/py4j-0.10.9.7-src.zip/py4j/clientserver.py\u001b[0m in \u001b[0;36msend_command\u001b[0;34m(self, command)\u001b[0m\n\u001b[1;32m    509\u001b[0m         \u001b[0;32mtry\u001b[0m\u001b[0;34m:\u001b[0m\u001b[0;34m\u001b[0m\u001b[0;34m\u001b[0m\u001b[0m\n\u001b[1;32m    510\u001b[0m             \u001b[0;32mwhile\u001b[0m \u001b[0;32mTrue\u001b[0m\u001b[0;34m:\u001b[0m\u001b[0;34m\u001b[0m\u001b[0;34m\u001b[0m\u001b[0m\n\u001b[0;32m--> 511\u001b[0;31m                 \u001b[0manswer\u001b[0m \u001b[0;34m=\u001b[0m \u001b[0msmart_decode\u001b[0m\u001b[0;34m(\u001b[0m\u001b[0mself\u001b[0m\u001b[0;34m.\u001b[0m\u001b[0mstream\u001b[0m\u001b[0;34m.\u001b[0m\u001b[0mreadline\u001b[0m\u001b[0;34m(\u001b[0m\u001b[0;34m)\u001b[0m\u001b[0;34m[\u001b[0m\u001b[0;34m:\u001b[0m\u001b[0;34m-\u001b[0m\u001b[0;36m1\u001b[0m\u001b[0;34m]\u001b[0m\u001b[0;34m)\u001b[0m\u001b[0;34m\u001b[0m\u001b[0;34m\u001b[0m\u001b[0m\n\u001b[0m\u001b[1;32m    512\u001b[0m                 \u001b[0mlogger\u001b[0m\u001b[0;34m.\u001b[0m\u001b[0mdebug\u001b[0m\u001b[0;34m(\u001b[0m\u001b[0;34m\"Answer received: {0}\"\u001b[0m\u001b[0;34m.\u001b[0m\u001b[0mformat\u001b[0m\u001b[0;34m(\u001b[0m\u001b[0manswer\u001b[0m\u001b[0;34m)\u001b[0m\u001b[0;34m)\u001b[0m\u001b[0;34m\u001b[0m\u001b[0;34m\u001b[0m\u001b[0m\n\u001b[1;32m    513\u001b[0m                 \u001b[0;31m# Happens when a the other end is dead. There might be an empty\u001b[0m\u001b[0;34m\u001b[0m\u001b[0;34m\u001b[0m\u001b[0m\n",
            "\u001b[0;32m/usr/lib/python3.10/socket.py\u001b[0m in \u001b[0;36mreadinto\u001b[0;34m(self, b)\u001b[0m\n\u001b[1;32m    703\u001b[0m         \u001b[0;32mwhile\u001b[0m \u001b[0;32mTrue\u001b[0m\u001b[0;34m:\u001b[0m\u001b[0;34m\u001b[0m\u001b[0;34m\u001b[0m\u001b[0m\n\u001b[1;32m    704\u001b[0m             \u001b[0;32mtry\u001b[0m\u001b[0;34m:\u001b[0m\u001b[0;34m\u001b[0m\u001b[0;34m\u001b[0m\u001b[0m\n\u001b[0;32m--> 705\u001b[0;31m                 \u001b[0;32mreturn\u001b[0m \u001b[0mself\u001b[0m\u001b[0;34m.\u001b[0m\u001b[0m_sock\u001b[0m\u001b[0;34m.\u001b[0m\u001b[0mrecv_into\u001b[0m\u001b[0;34m(\u001b[0m\u001b[0mb\u001b[0m\u001b[0;34m)\u001b[0m\u001b[0;34m\u001b[0m\u001b[0;34m\u001b[0m\u001b[0m\n\u001b[0m\u001b[1;32m    706\u001b[0m             \u001b[0;32mexcept\u001b[0m \u001b[0mtimeout\u001b[0m\u001b[0;34m:\u001b[0m\u001b[0;34m\u001b[0m\u001b[0;34m\u001b[0m\u001b[0m\n\u001b[1;32m    707\u001b[0m                 \u001b[0mself\u001b[0m\u001b[0;34m.\u001b[0m\u001b[0m_timeout_occurred\u001b[0m \u001b[0;34m=\u001b[0m \u001b[0;32mTrue\u001b[0m\u001b[0;34m\u001b[0m\u001b[0;34m\u001b[0m\u001b[0m\n",
            "\u001b[0;31mKeyboardInterrupt\u001b[0m: "
          ]
        }
      ],
      "source": [
        "spark.sql(\"\"\"\n",
        "SELECT payment_type,\n",
        "       count(*) as quantidade_de_duplicadas_neg_pos\n",
        "FROM (\n",
        "  SELECT\n",
        "       VendorID,\n",
        "       tpep_pickup_datetime,\n",
        "       tpep_dropoff_datetime,\n",
        "       trip_distance,\n",
        "       payment_type,\n",
        "       array_agg(fare_amount),\n",
        "       sum(fare_amount) as earnings\n",
        "    FROM tlc_trip_data\n",
        "    GROUP BY\n",
        "        VendorID,\n",
        "        tpep_pickup_datetime,\n",
        "        tpep_dropoff_datetime,\n",
        "        trip_distance,\n",
        "        payment_type\n",
        "    HAVING\n",
        "       count(*) > 1\n",
        "       ) as t where t.earnings = 0\n",
        "       group by payment_type\n",
        "       order by count(*) desc\n",
        "\"\"\").show()\n"
      ]
    },
    {
      "cell_type": "markdown",
      "metadata": {
        "id": "Z7IjC24MqrpJ"
      },
      "source": [
        "Consideraremos a unicidade de uma corrida a partir de 4 colunas: *VendorID*, *tpep_pickup_datetime*, *tpep_dropoff_datetime*,*trip_distance*"
      ]
    },
    {
      "cell_type": "markdown",
      "metadata": {
        "id": "4Hs-Dly1TGjM"
      },
      "source": [
        "#### Limpeza de corridas canceladas\n",
        "Agora vamos aplicar nossa regra de limpeza:\n",
        "<br> \"Toda corrida que possuir *tpep_pickup_datetime*, *tpep_dropoff_datetime*, *VendorID*, *trip_distance* iguais e que a soma dos *fare_amount* seja 0, serão corridas canceladas\"\n",
        "<br>\n",
        "Observe as linhas abaixo, ambas representam a mesma corrida, porém com os valores opostos."
      ]
    },
    {
      "cell_type": "code",
      "execution_count": null,
      "metadata": {
        "colab": {
          "background_save": true
        },
        "id": "tqG9cCRXMhuf"
      },
      "outputs": [],
      "source": [
        "spark.sql(\"\"\"select * from tlc_trip_data where TO_TIMESTAMP(tpep_pickup_datetime , 'YYYY-MM-DD HH24:MM:SS') = '2022-10-01 06:16:26' and\n",
        "TO_TIMESTAMP(tpep_dropoff_datetime, 'YYYY-MM-DD HH24:MM:SS') = '2022-10-01 06:17:00'   \"\"\").show()"
      ]
    },
    {
      "cell_type": "markdown",
      "metadata": {
        "id": "FJ-B__YgshmX"
      },
      "source": [
        "Para agrupar essas linhas fazemos um group by na unicidade das corridas, somando o *fare_amount*. As linhas que resultaram na soma igual a zero são as que estavam duplicadas, portanto, são as canceladas.\n",
        "\n",
        "\n",
        "Temos que ter cuidado com as corridas do tipo *no_charge*(3), pois os pares negativo e positivo desse tipo não devem ser considerados como cancelados, mas sim como *no_charge* mesmo. Portanto, vamos agrupar essas linhas para eliminar a duplicidade para não afetar a análise da distancia percorrida, mas mantendo seu payment_type igual a 3 e earning 0."
      ]
    },
    {
      "cell_type": "code",
      "execution_count": null,
      "metadata": {
        "colab": {
          "background_save": true
        },
        "id": "o3inbI6ae5fE"
      },
      "outputs": [],
      "source": [
        "corridas_no_charge_sem_duplicatas = spark.sql(\"\"\"\n",
        "WITH no_charge_duplicadas AS (\n",
        "   SELECT\n",
        "    VendorID,\n",
        "    tpep_pickup_datetime,\n",
        "    tpep_dropoff_datetime,\n",
        "    trip_distance,\n",
        "    0 AS earnings,\n",
        "    array_agg(index) as index_duplicadas\n",
        "  FROM tlc_trip_data\n",
        "  WHERE payment_type = 3\n",
        "  GROUP BY\n",
        "    VendorID,\n",
        "    tpep_pickup_datetime,\n",
        "    tpep_dropoff_datetime,\n",
        "    trip_distance\n",
        "  HAVING\n",
        "    SUM(fare_amount) = 0\n",
        "    AND\n",
        "    count(*) = 2\n",
        "),\n",
        "no_charge_sem_duplicadas AS (\n",
        "   SELECT\n",
        "    VendorID,\n",
        "    tpep_pickup_datetime,\n",
        "    tpep_dropoff_datetime,\n",
        "    trip_distance,\n",
        "    0 as earnings,\n",
        "    array_agg(index) as index_duplicadas\n",
        "  FROM tlc_trip_data\n",
        "  WHERE payment_type = 3\n",
        "  GROUP BY\n",
        "    VendorID,\n",
        "    tpep_pickup_datetime,\n",
        "    tpep_dropoff_datetime,\n",
        "    trip_distance\n",
        "  HAVING\n",
        "   count(*) <> 2\n",
        ")\n",
        "SELECT *, 3 as payment_type\n",
        "FROM no_charge_duplicadas\n",
        "UNION ALL\n",
        "SELECT *, 3 as payment_type\n",
        "FROM no_charge_sem_duplicadas\n",
        "\"\"\")\n",
        "\n",
        "corridas_no_charge_sem_duplicatas.createOrReplaceTempView(\"Corridas_Sem_Cobrancas_Sem_Duplicatas\")"
      ]
    },
    {
      "cell_type": "markdown",
      "metadata": {
        "id": "ISwUG7DYFauv"
      },
      "source": [
        "As corridas canceladas serão todas aquelas que se repetirem *VendorID*, *tpep_pickup_datetime*, *tpep_dropoff_datetime*, *trip_distance*, com soma do *fare_amount* igual a 0 e que não sejam do *payment_type* igual a 3"
      ]
    },
    {
      "cell_type": "code",
      "execution_count": null,
      "metadata": {
        "colab": {
          "background_save": true
        },
        "id": "SBaUIjo-YUmE"
      },
      "outputs": [],
      "source": [
        "corridas_canceladas = spark.sql(\"\"\"\n",
        "  SELECT\n",
        "        VendorID,\n",
        "        tpep_pickup_datetime,\n",
        "        tpep_dropoff_datetime,\n",
        "        trip_distance,\n",
        "        SUM(fare_amount) AS earnings,\n",
        "        array_agg(index) as index_duplicadas,\n",
        "        6 AS payment_type\n",
        "    FROM tlc_trip_data\n",
        "    where payment_type <> 3\n",
        "    GROUP BY\n",
        "        VendorID,\n",
        "        tpep_pickup_datetime,\n",
        "        tpep_dropoff_datetime,\n",
        "        trip_distance\n",
        "    HAVING\n",
        "        SUM(fare_amount) = 0\n",
        "\"\"\")\n",
        "corridas_canceladas.createOrReplaceTempView(\"Corridas_Canceladas\")"
      ]
    },
    {
      "cell_type": "code",
      "execution_count": null,
      "metadata": {
        "colab": {
          "background_save": true
        },
        "id": "uxz7KwMc2422"
      },
      "outputs": [],
      "source": [
        "corridas_canceladas_e_no_charge = spark.sql(\"\"\"\n",
        "  select * from Corridas_Sem_Cobrancas_Sem_Duplicatas\n",
        "        union all\n",
        "        select * from Corridas_Canceladas\n",
        "\"\"\")\n",
        "corridas_canceladas_e_no_charge.createOrReplaceTempView(\"Corridas_Canceladas_E_Sem_Cobrancas\")"
      ]
    },
    {
      "cell_type": "markdown",
      "metadata": {
        "id": "f9yS8K0kXpjv"
      },
      "source": [
        "#### Removendo as corridas canceladas do restante do dataset"
      ]
    },
    {
      "cell_type": "code",
      "execution_count": null,
      "metadata": {
        "colab": {
          "background_save": true
        },
        "id": "5kG6UhQD8AXv"
      },
      "outputs": [],
      "source": [
        "corridas_nao_canceladas_e_no_charge = spark.sql(\"\"\"\n",
        "        SELECT *\n",
        "        FROM tlc_trip_data\n",
        "        WHERE index NOT IN (SELECT index FROM (\n",
        "           select explode(index_duplicadas) as index from Corridas_Canceladas_E_Sem_Cobrancas\n",
        "        ))\n",
        "\"\"\")\n",
        "corridas_nao_canceladas_e_no_charge.createOrReplaceTempView(\"Corridas_Nao_Canceladas_E_Sem_Cobrancas\")"
      ]
    },
    {
      "cell_type": "code",
      "execution_count": null,
      "metadata": {
        "colab": {
          "background_save": true
        },
        "id": "OJmQ2BRxTnNU"
      },
      "outputs": [],
      "source": [
        "corridas_canceladas_e_no_charge = spark.table(\"Corridas_Canceladas_E_Sem_Cobrancas\")\n",
        "corridas_canceladas_e_no_charge.write.mode(\"overwrite\").parquet(\"Corridas_Canceladas_E_Sem_Cobrancas\")"
      ]
    },
    {
      "cell_type": "code",
      "execution_count": null,
      "metadata": {
        "colab": {
          "background_save": true
        },
        "id": "xJhnL18XTtGx"
      },
      "outputs": [],
      "source": [
        "corridas_canceladas_e_no_charge = spark.read.parquet(\"Corridas_Canceladas_E_Sem_Cobrancas\")\n",
        "corridas_canceladas_e_no_charge.createOrReplaceTempView(\"Corridas_Canceladas_E_Sem_Cobrancas\")"
      ]
    },
    {
      "cell_type": "code",
      "execution_count": null,
      "metadata": {
        "colab": {
          "background_save": true
        },
        "id": "OnvmWBVzFxXt"
      },
      "outputs": [],
      "source": [
        "corridas_nao_canceladas_e_sem_no_charge = spark.table(\"Corridas_Nao_Canceladas_E_Sem_Cobrancas\")\n",
        "corridas_nao_canceladas_e_sem_no_charge.write.mode(\"overwrite\").parquet(\"Corridas_Nao_Canceladas_E_Sem_Cobrancas\")"
      ]
    },
    {
      "cell_type": "code",
      "execution_count": null,
      "metadata": {
        "colab": {
          "background_save": true
        },
        "id": "VCW-vXCZGiwM"
      },
      "outputs": [],
      "source": [
        "corridas_nao_canceladas_e_sem_no_charge = spark.read.parquet(\"Corridas_Nao_Canceladas_E_Sem_Cobrancas\")\n",
        "corridas_nao_canceladas_e_sem_no_charge.createOrReplaceTempView(\"Corridas_Nao_Canceladas_E_Sem_Cobrancas\")"
      ]
    },
    {
      "cell_type": "markdown",
      "metadata": {
        "id": "lY7uhOWsYB09"
      },
      "source": [
        "### Ganho\n",
        "Para responder a análise 2, precisamos definir o que seria o ganho do motorista. O ganho do motorista se dá pelo valor total pago pelo cliente (total_amount) menos os impostos do Governo Americano. Assim, o ganho do motorista é:\n",
        "\n",
        "Ganho = total_amount - (mta_tax + tolls_amount + improvement_surcharge + congestion_surcharge)\n",
        "\n",
        "A subtração desses valores do total_amount representa quanto de fato o motorista recebeu por aquela viagem\n",
        "\n",
        "\n",
        "**OBS**: Consideramos o valor de *airport_fee* como uma taxa de bonificação do motorista, pois não encontramos nenhum material que explicitamente dizia que esse valor é algum tipo de repasse. Dessa forma, não removemos esse valor do *total_amount*"
      ]
    },
    {
      "cell_type": "markdown",
      "metadata": {
        "id": "V4jS1xlMcufk"
      },
      "source": [
        "Porém antes de calcularmos o ganho de cada uma das corridas, precisamos ajustar as células onde os valores que vamos usar para o cálculo estão inconsistentes.\n",
        "\n",
        "Como podemos observar na célula abaixo, existem 1368091 linhas onde *congestion_surcharge* é nulo. Para corrigir esse valor sem deturpar a análise, iremos inputar o valor da média ponderada do congestion_surcharge onde ele está faltando\n"
      ]
    },
    {
      "cell_type": "code",
      "execution_count": null,
      "metadata": {
        "colab": {
          "background_save": true
        },
        "id": "vXV0F3a_KzaK"
      },
      "outputs": [],
      "source": [
        "spark.sql(\"\"\"\n",
        "WITH non_null_counts AS (\n",
        "    SELECT\n",
        "        congestion_surcharge,\n",
        "        COUNT(*) AS count\n",
        "    FROM\n",
        "        Corridas_Nao_Canceladas_E_Sem_Cobrancas\n",
        "    WHERE\n",
        "        congestion_surcharge IS NOT NULL\n",
        "    GROUP BY\n",
        "        congestion_surcharge\n",
        "),\n",
        "\n",
        "null_count AS (\n",
        "    SELECT\n",
        "        NULL AS congestion_surcharge,\n",
        "        COUNT(*) AS count\n",
        "    FROM\n",
        "        Corridas_Nao_Canceladas_E_Sem_Cobrancas\n",
        "    WHERE\n",
        "        congestion_surcharge IS NULL\n",
        ")\n",
        "\n",
        "SELECT\n",
        "    count,\n",
        "    congestion_surcharge\n",
        "FROM\n",
        "    non_null_counts\n",
        "UNION ALL\n",
        "SELECT\n",
        "    count,\n",
        "    congestion_surcharge\n",
        "FROM\n",
        "    null_count\n",
        "ORDER BY count DESC\n",
        "\"\"\").show()\n"
      ]
    },
    {
      "cell_type": "code",
      "execution_count": null,
      "metadata": {
        "colab": {
          "background_save": true
        },
        "id": "kwFWAR3XKWEp"
      },
      "outputs": [],
      "source": [
        "media_congestion_surcharge = spark.sql(\"\"\"\n",
        "  WITH filtered_data AS (\n",
        "    SELECT\n",
        "        congestion_surcharge,\n",
        "        COUNT(*) AS cnt\n",
        "    FROM\n",
        "        Corridas_Nao_Canceladas_E_Sem_Cobrancas\n",
        "    WHERE\n",
        "        congestion_surcharge IS NOT NULL\n",
        "    GROUP BY\n",
        "        congestion_surcharge\n",
        "),\n",
        "sum_data AS (\n",
        "    SELECT\n",
        "        SUM(congestion_surcharge * cnt) AS sum_product,\n",
        "        SUM(cnt) AS sum_count\n",
        "    FROM\n",
        "        filtered_data\n",
        ")\n",
        "SELECT\n",
        "    sum_product / sum_count AS media_ponderada\n",
        "FROM\n",
        "    sum_data\n",
        "\"\"\").collect()[0][0]"
      ]
    },
    {
      "cell_type": "code",
      "execution_count": null,
      "metadata": {
        "colab": {
          "background_save": true
        },
        "id": "WXSgIapnJu-R"
      },
      "outputs": [],
      "source": [
        "media_congestion_surcharge"
      ]
    },
    {
      "cell_type": "code",
      "execution_count": null,
      "metadata": {
        "colab": {
          "background_save": true
        },
        "id": "b8KtKly7mTxm"
      },
      "outputs": [],
      "source": [
        "corridas_com_ganhos_filtrada = spark.sql(f\"\"\"\n",
        "SELECT\n",
        "  VendorID,\n",
        "  tpep_pickup_datetime,\n",
        "  tpep_dropoff_datetime,\n",
        "  trip_distance,\n",
        "  payment_type,\n",
        "  (total_amount - mta_tax - tolls_amount - improvement_surcharge - NVL(congestion_surcharge, {media_congestion_surcharge})) as earnings\n",
        "from\n",
        "  Corridas_Nao_Canceladas_E_Sem_Cobrancas\n",
        "\"\"\")\n",
        "corridas_com_ganhos_filtrada.createOrReplaceTempView(\"Corridas_Com_Ganhos_Filtrada\")"
      ]
    },
    {
      "cell_type": "markdown",
      "metadata": {
        "id": "bpqAlNyqNTuv"
      },
      "source": [
        "Agora temos o dataset com os valores de congestion_surcharge acertados e podemos continuar com a limpeza do dataset"
      ]
    },
    {
      "cell_type": "code",
      "execution_count": null,
      "metadata": {
        "colab": {
          "background_save": true
        },
        "id": "hkpx436Af19V"
      },
      "outputs": [],
      "source": [
        "spark.sql('Select count(*), payment_type from Corridas_Com_Ganhos_Filtrada where earnings < 3 group by payment_type').show(100)"
      ]
    },
    {
      "cell_type": "code",
      "execution_count": null,
      "metadata": {
        "colab": {
          "background_save": true
        },
        "id": "ZplZEY8D1Us1"
      },
      "outputs": [],
      "source": [
        "spark.sql('Select * from Corridas_Com_Ganhos_Filtrada order by earnings desc').show(75)"
      ]
    },
    {
      "cell_type": "markdown",
      "metadata": {
        "id": "baT8N9Jl2wSf"
      },
      "source": [
        " Como podemos ver na tabela acima, os valores acima de 1.777 começam a distorcer bastante do restante, pulando para 5901 numa viagem com tempo instantâneo. Portanto, vamos então colocar a média dos valores de earnings entre 3 e 1777 para valores acima de 1.777 e menores de 3, baseando-se no fato de que uma corrida ao começar já custa $ 3 doláres, como podemos ver na imagem a seguir, extraída do mesmo site onde encontra-se o dataset:\n",
        "\n",
        "\n",
        "![image.png](data:image/png;base64,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)"
      ]
    },
    {
      "cell_type": "code",
      "execution_count": null,
      "metadata": {
        "colab": {
          "background_save": true
        },
        "id": "ny0POOQb3ixe"
      },
      "outputs": [],
      "source": [
        "mediaEarnings = spark.sql(\"\"\"\n",
        "SELECT vendorId, avg(earnings)\n",
        "From Corridas_Com_Ganhos_Filtrada\n",
        "Where earnings between 3 and 1777\n",
        "group by vendorId\n",
        "order by vendorId\n",
        "\"\"\")\n",
        "\n",
        "media_earnings_por_vendor_id = mediaEarnings.collect()"
      ]
    },
    {
      "cell_type": "code",
      "execution_count": null,
      "metadata": {
        "colab": {
          "background_save": true
        },
        "id": "pP-6mwrPOpPk"
      },
      "outputs": [],
      "source": [
        "for media in media_earnings_por_vendor_id:\n",
        "  print(media)"
      ]
    },
    {
      "cell_type": "code",
      "execution_count": null,
      "metadata": {
        "colab": {
          "background_save": true
        },
        "id": "5k_3vKOV5wim"
      },
      "outputs": [],
      "source": [
        "corridas_com_ganhos_ajustados_pela_media = spark.sql(f\"\"\"\n",
        "SELECT\n",
        "    VendorID, tpep_pickup_datetime, tpep_dropoff_datetime, trip_distance, payment_type,\n",
        "    CASE\n",
        "        WHEN (earnings < 3 or earnings > 1777) and (vendorId = 1) THEN {media_earnings_por_vendor_id[0][1]}\n",
        "        WHEN (earnings < 3 or earnings > 1777) and (vendorId = 2) THEN {media_earnings_por_vendor_id[1][1]}\n",
        "        WHEN (earnings < 3 or earnings > 1777) and (vendorId = 5) THEN {media_earnings_por_vendor_id[2][1]}\n",
        "        WHEN (earnings < 3 or earnings > 1777) and (vendorId = 6) THEN {media_earnings_por_vendor_id[3][1]}\n",
        "        ELSE earnings\n",
        "    END as earnings\n",
        "FROM Corridas_Com_Ganhos_Filtrada\n",
        "\"\"\")\n",
        "corridas_com_ganhos_ajustados_pela_media.createOrReplaceTempView('Corridas_Com_Ganhos_Ajustados_Pela_Media')"
      ]
    },
    {
      "cell_type": "markdown",
      "metadata": {
        "id": "0Fj8a7DHPhnv"
      },
      "source": [
        "Agora possuímos o dataset com os ganhos ajustados pela média de cada VendorID. Assim podemos prosseguir com a limpeza das outras colunas"
      ]
    },
    {
      "cell_type": "markdown",
      "metadata": {
        "id": "bU6R0asLQCOt"
      },
      "source": [
        "### Distância percorrida\n",
        "Para responder a análise 2, precisamos inputar valores nas linhas onde trip_distance é igual a zero. Observando na célula abaixo, 483129 corridas não possuem registro da distancia percorrida.\n",
        "\n",
        "Para contornar esse problema, iremos inputar a média da distancia percorrida de cada VendorID nas linhas onde trip_distance for igual a 0"
      ]
    },
    {
      "cell_type": "code",
      "execution_count": null,
      "metadata": {
        "colab": {
          "background_save": true
        },
        "id": "cPoqIjtdQcxB"
      },
      "outputs": [],
      "source": [
        "spark.sql(\"\"\"\n",
        "select count(*) as quantidade_corridas_sem_distancia from Corridas_Com_Ganhos_Ajustados_Pela_Media where trip_distance = 0\n",
        "\"\"\").show()"
      ]
    },
    {
      "cell_type": "code",
      "execution_count": null,
      "metadata": {
        "colab": {
          "background_save": true
        },
        "id": "AamvYWh7FW-4"
      },
      "outputs": [],
      "source": [
        "spark.sql(\"\"\"\n",
        "select * from Corridas_Com_Ganhos_Ajustados_Pela_Media where payment_type <> 0 order by trip_distance desc\n",
        "\"\"\").show()"
      ]
    },
    {
      "cell_type": "code",
      "execution_count": null,
      "metadata": {
        "colab": {
          "background_save": true
        },
        "id": "0-F7jTUdIHrH"
      },
      "outputs": [],
      "source": [
        "spark.sql(\"select count(*) as quantidade_de_corridas_grande_demais from Corridas_Com_Ganhos_Ajustados_Pela_Media where trip_distance > 360\").show()"
      ]
    },
    {
      "cell_type": "markdown",
      "metadata": {
        "id": "1a0FEYzsH-fs"
      },
      "source": [
        "Definimos que as corridas que devem ser ajustadas são as menores de 0.05 milhas de distancia e as maiores do que 360 milhas. Esse limite superior foi definido assim pois é a distancia percorrida da corrida que adotamos para fazer o corte na limpeza dos ganhos, cujo ganho foi 1777 doláres. Iremos imputar a mediana dos valores dentro do intervalo que consideramos plausível."
      ]
    },
    {
      "cell_type": "code",
      "execution_count": null,
      "metadata": {
        "colab": {
          "background_save": true
        },
        "id": "AwVBanbHAppm"
      },
      "outputs": [],
      "source": [
        "mediantrip_distance = spark.sql(\"\"\"\n",
        "SELECT VendorID, mean(trip_distance)\n",
        "FROM Corridas_Com_Ganhos_Ajustados_Pela_Media\n",
        "where trip_distance > 0.05 and trip_distance < 360\n",
        "group by VendorID\n",
        "order by VendorId\n",
        "\"\"\")\n",
        "medianas = mediantrip_distance.collect()"
      ]
    },
    {
      "cell_type": "code",
      "execution_count": null,
      "metadata": {
        "colab": {
          "background_save": true
        },
        "id": "FP36ILWDszcv"
      },
      "outputs": [],
      "source": [
        "medianas"
      ]
    },
    {
      "cell_type": "code",
      "execution_count": null,
      "metadata": {
        "colab": {
          "background_save": true
        },
        "id": "Pf5R02Mlt1ZS"
      },
      "outputs": [],
      "source": [
        "medianaVendor1 = medianas[0][1]\n",
        "medianaVendor2 = medianas[1][1]\n",
        "medianaVendor5 = medianas[2][1]\n",
        "medianaVendor6 = medianas[3][1]"
      ]
    },
    {
      "cell_type": "code",
      "execution_count": null,
      "metadata": {
        "colab": {
          "background_save": true
        },
        "id": "H6vn8EvB_HS1"
      },
      "outputs": [],
      "source": [
        "corridas_com_trip_distance_ajustado = spark.sql(f\"\"\"\n",
        "SELECT\n",
        "    VendorID, tpep_pickup_datetime, tpep_dropoff_datetime,\n",
        "    CASE\n",
        "        WHEN (trip_distance <= 0.05) and (trip_distance < 360) and (vendorId = 6)\n",
        "            THEN {medianaVendor6}\n",
        "        WHEN (trip_distance <= 0.05) and (trip_distance < 360) and (vendorId = 5)\n",
        "            THEN {medianaVendor5}\n",
        "        WHEN (trip_distance <= 0.05) and (trip_distance < 360) and (vendorId = 1)\n",
        "            THEN {medianaVendor1}\n",
        "        WHEN (trip_distance <= 0.05) and (trip_distance < 360) and (vendorId = 2)\n",
        "            THEN {medianaVendor2}\n",
        "        ELSE trip_distance\n",
        "    END as trip_distance,\n",
        "    payment_type, earnings\n",
        "FROM Corridas_Com_Ganhos_Ajustados_Pela_Media\n",
        "\"\"\")\n",
        "corridas_com_trip_distance_ajustado.createOrReplaceTempView('Corridas_Com_Trip_Distance_Ajustado')"
      ]
    },
    {
      "cell_type": "markdown",
      "metadata": {
        "id": "KMc6Lgy_Xab2"
      },
      "source": [
        "Agora que já acertamos os valores de trip_distance e earnings para as corridas que não são no_charge e não foram canceladas, podemos juntar essa parte das corridas com a outra parte que havia sido separada."
      ]
    },
    {
      "cell_type": "code",
      "execution_count": null,
      "metadata": {
        "colab": {
          "background_save": true
        },
        "id": "k5PRE9m6SeSg"
      },
      "outputs": [],
      "source": [
        "corridas_corrigidas = spark.sql(\"\"\"\n",
        "  select VendorID,tpep_pickup_datetime,tpep_dropoff_datetime,trip_distance,payment_type, earnings from Corridas_Com_Trip_Distance_Ajustado\n",
        "  union all\n",
        "\n",
        "  select VendorID,tpep_pickup_datetime,tpep_dropoff_datetime,trip_distance,payment_type, earnings from Corridas_Canceladas_E_Sem_Cobrancas\n",
        "\"\"\")\n",
        "corridas_corrigidas.createOrReplaceTempView(\"Corridas_Corrigidas\")"
      ]
    },
    {
      "cell_type": "code",
      "execution_count": null,
      "metadata": {
        "colab": {
          "background_save": true
        },
        "id": "twpAtApjbLsL"
      },
      "outputs": [],
      "source": [
        "corridas_corrigidas = spark.table(\"Corridas_Corrigidas\")\n",
        "corridas_corrigidas.write.mode(\"overwrite\").parquet(\"Corridas_Corrigidas\")"
      ]
    },
    {
      "cell_type": "code",
      "execution_count": null,
      "metadata": {
        "colab": {
          "background_save": true
        },
        "id": "lujSRTjmbOuR"
      },
      "outputs": [],
      "source": [
        "corridas_corrigidas = spark.read.parquet('Corridas_Corrigidas')\n",
        "corridas_corrigidas.createOrReplaceTempView('Corridas_Corrigidas')"
      ]
    },
    {
      "cell_type": "markdown",
      "metadata": {
        "id": "1n3fnmzP-5Ll"
      },
      "source": [
        "### Datas de início e fim da corrida\n",
        "Percebemos que algumas datas de *tpep_pickup_datetime* e *tpep_dropoff_datetime* estavam fora do intevalo do ano de 2022. Para tratar isso aplicamos a seguinte regra:\n",
        "\n",
        "*  Corridas que ambas as datas são fora de 2022, tem o ano ajustado para 2022, mantendo dia/mês e hora.\n",
        "*  Corridas que somente uma das datas está fora de 2022, essa data será ajustada para estar igual ao seu par, preservando somente sua hora. Ou seja, ficaria no mesmo dia/mês do par que se encontra no ano de 2022."
      ]
    },
    {
      "cell_type": "code",
      "execution_count": null,
      "metadata": {
        "colab": {
          "background_save": true
        },
        "id": "AuwvrkGd9omM"
      },
      "outputs": [],
      "source": [
        "corridas_com_datas_corrigidas = spark.sql(\"\"\"\n",
        "select VendorID, pickup_datetime as tpep_pickup_datetime,\n",
        "       dropoff_datetime as tpep_dropoff_datetime, trip_distance, payment_type, earnings\n",
        "from (\n",
        "    SELECT *,\n",
        "    CASE\n",
        "        WHEN (TO_DATE(tpep_pickup_datetime, 'yyyy-MM-dd HH:mm:ss') < '2021-12-30'\n",
        "        AND TO_DATE(tpep_dropoff_datetime, 'yyyy-MM-dd HH:mm:ss') < '2021-12-30')\n",
        "          THEN TO_TIMESTAMP(CONCAT('2022-', SUBSTRING(tpep_pickup_datetime, 6, 15)), 'yyyy-MM-dd HH:mm:ss')\n",
        "        WHEN (TO_DATE(tpep_pickup_datetime, 'yyyy-MM-dd HH:mm:ss') < '2021-12-30'\n",
        "        AND TO_DATE(tpep_dropoff_datetime, 'yyyy-MM-dd HH:mm:ss') >= '2021-12-30')\n",
        "          THEN TO_TIMESTAMP(CONCAT('2022-', SUBSTRING(tpep_dropoff_datetime, 6, 15)), 'yyyy-MM-dd HH:mm:ss')\n",
        "        ELSE TO_TIMESTAMP(tpep_pickup_datetime, 'yyyy-MM-dd HH:mm:ss')\n",
        "    END AS pickup_datetime,\n",
        "    CASE\n",
        "        WHEN (TO_DATE(tpep_pickup_datetime, 'yyyy-MM-dd HH:mm:ss') < '2021-12-30'\n",
        "        AND TO_DATE(tpep_dropoff_datetime, 'yyyy-MM-dd HH:mm:ss') < '2021-12-30')\n",
        "          THEN TO_TIMESTAMP(CONCAT('2022-', SUBSTRING(tpep_dropoff_datetime, 6, 15)), 'yyyy-MM-dd HH:mm:ss')\n",
        "        WHEN (TO_DATE(tpep_pickup_datetime, 'yyyy-MM-dd HH:mm:ss') >= '2021-12-30'\n",
        "        AND TO_DATE(tpep_dropoff_datetime, 'yyyy-MM-dd HH:mm:ss') < '2021-12-30')\n",
        "          THEN TO_TIMESTAMP(CONCAT('2022-', SUBSTRING(tpep_pickup_datetime, 6, 15)), 'yyyy-MM-dd HH:mm:ss')\n",
        "        ELSE TO_TIMESTAMP(tpep_dropoff_datetime, 'yyyy-MM-dd HH:mm:ss')\n",
        "    END AS dropoff_datetime\n",
        "    FROM Corridas_Corrigidas\n",
        ")\n",
        "\"\"\")\n",
        "corridas_com_datas_corrigidas.createOrReplaceTempView('Corridas_Datas_Corrigidas')"
      ]
    },
    {
      "cell_type": "code",
      "execution_count": null,
      "metadata": {
        "colab": {
          "background_save": true
        },
        "id": "vE6qXG2Sg6zc"
      },
      "outputs": [],
      "source": [
        "corridas_com_datas_corrigidas = spark.sql(\"\"\"\n",
        "SELECT VendorID, tpep_pickup_datetime, tpep_dropoff_datetime, trip_distance, payment_type, earnings\n",
        "FROM Corridas_Datas_Corrigidas\n",
        "WHERE YEAR(TO_DATE(tpep_dropoff_datetime, 'yyyy-MM-dd HH:mm:ss')) = 2022\n",
        "\"\"\")\n",
        "corridas_com_datas_corrigidas.createOrReplaceTempView('Corridas_Datas_Corrigidas')"
      ]
    },
    {
      "cell_type": "markdown",
      "metadata": {
        "id": "U9AWlKw2KyNZ"
      },
      "source": [
        "### Tratando o Payment_type = 0\n",
        "Precisamos classificar o payment_type 0 de alguma maneira dentre as categorias, visto que ele não se encontra no dicionário do dataset. Para isso, vamos analisar as frequências das corridas de cada payment_type que são diferentes de 0 por VendorID e fazer a inputação do payment_type onde ele é 0 de maneira que não afete a distribuição original."
      ]
    },
    {
      "cell_type": "code",
      "execution_count": null,
      "metadata": {
        "colab": {
          "background_save": true
        },
        "id": "OhOIGWCXRY5E"
      },
      "outputs": [],
      "source": [
        "total_payment = spark.sql('select count(*) from Corridas_Datas_Corrigidas where payment_type <> 0').collect()[0][0]\n",
        "\n",
        "frequencias = spark.sql(f\"\"\"\n",
        "SELECT payment_type, COUNT(*) AS QTD, (COUNT(*) * 100.0 / {total_payment}) Frequencia\n",
        "FROM Corridas_Datas_Corrigidas\n",
        "where payment_type <> 0\n",
        "group by payment_type\n",
        "order by payment_type\n",
        "\"\"\").collect()"
      ]
    },
    {
      "cell_type": "code",
      "execution_count": null,
      "metadata": {
        "colab": {
          "background_save": true
        },
        "id": "J2yoRK2Bwl49"
      },
      "outputs": [],
      "source": [
        "frequencia1 = frequencias[0][2]\n",
        "frequencia2 = frequencias[1][2]\n",
        "frequencia3 = frequencias[2][2]\n",
        "frequencia4 = frequencias[3][2]\n",
        "frequencia5 = frequencias[4][2]\n",
        "frequencia6 = frequencias[5][2]"
      ]
    },
    {
      "cell_type": "code",
      "execution_count": null,
      "metadata": {
        "colab": {
          "background_save": true
        },
        "id": "aK-zj7xjkw5e"
      },
      "outputs": [],
      "source": [
        "contagem_zeros = spark.sql(\"\"\"\n",
        "SELECT count(*)\n",
        "FROM Corridas_Datas_Corrigidas\n",
        "where payment_type = 0\n",
        "\n",
        "\"\"\").collect()[0][0]"
      ]
    },
    {
      "cell_type": "code",
      "execution_count": null,
      "metadata": {
        "colab": {
          "background_save": true
        },
        "id": "G1XphhLMcE4z"
      },
      "outputs": [],
      "source": [
        "linhas1 = round(frequencia1*contagem_zeros/100)\n",
        "linhas2 = round(frequencia2*contagem_zeros/100)\n",
        "linhas3 = round(frequencia3*contagem_zeros/100)\n",
        "linhas4 = round(frequencia4*contagem_zeros/100)\n",
        "linhas5 = round(frequencia5*contagem_zeros/100)\n",
        "linhas6 = round(frequencia6*contagem_zeros/100)\n",
        "total = linhas1+linhas2+linhas3+linhas4+linhas5+linhas6\n",
        "\n",
        "print(linhas1, linhas2, linhas3, linhas4, linhas5, linhas6)"
      ]
    },
    {
      "cell_type": "code",
      "execution_count": null,
      "metadata": {
        "colab": {
          "background_save": true
        },
        "id": "hmOFWj6acrVr"
      },
      "outputs": [],
      "source": [
        "lista_linhas = [linhas1, linhas2, linhas3, linhas4, linhas5, linhas6]"
      ]
    },
    {
      "cell_type": "code",
      "execution_count": null,
      "metadata": {
        "colab": {
          "background_save": true
        },
        "id": "XNy9wckZ8Aop"
      },
      "outputs": [],
      "source": [
        "spark.sql(\"\"\"\n",
        "SELECT VendorID, tpep_pickup_datetime, tpep_dropoff_datetime, trip_distance, payment_type, earnings\n",
        "FROM Corridas_Datas_Corrigidas\n",
        "where payment_type <> 0\n",
        "\"\"\").createOrReplaceTempView(\"Corridas_Datas_Corrigidas_teste\")"
      ]
    },
    {
      "cell_type": "code",
      "execution_count": null,
      "metadata": {
        "colab": {
          "background_save": true
        },
        "id": "k-5FxD4J-poD"
      },
      "outputs": [],
      "source": [
        "zeros = spark.sql(\"\"\"\n",
        "SELECT VendorID, tpep_pickup_datetime, tpep_dropoff_datetime, trip_distance, payment_type, earnings\n",
        "FROM Corridas_Datas_Corrigidas\n",
        "where payment_type = 0\n",
        "\"\"\")"
      ]
    },
    {
      "cell_type": "code",
      "execution_count": null,
      "metadata": {
        "colab": {
          "background_save": true
        },
        "id": "zYHchu4K-Zdr"
      },
      "outputs": [],
      "source": [
        "from pyspark.sql.functions import row_number\n",
        "from pyspark.sql.window import Window\n",
        "\n",
        "window_spec = Window.orderBy(\"tpep_pickup_datetime\")\n",
        "df_with_rownum = zeros.withColumn(\"ROW_NUMBER\", row_number().over(window_spec))"
      ]
    },
    {
      "cell_type": "code",
      "execution_count": null,
      "metadata": {
        "colab": {
          "background_save": true
        },
        "id": "TnRNwmfDEq7U"
      },
      "outputs": [],
      "source": [
        "df_with_rownum.createOrReplaceTempView(\"zeros\")"
      ]
    },
    {
      "cell_type": "code",
      "execution_count": null,
      "metadata": {
        "colab": {
          "background_save": true
        },
        "id": "KDKLUfnHEIgy"
      },
      "outputs": [],
      "source": [
        "spark.sql(f\"\"\"\n",
        "SELECT VendorID, tpep_pickup_datetime, tpep_dropoff_datetime, trip_distance,\n",
        "CASE\n",
        "  WHEN PAYMENT_TYPE = 0 AND ROW_NUMBER BETWEEN 0 AND {linhas1} THEN 1\n",
        "  WHEN PAYMENT_TYPE = 0 AND ROW_NUMBER BETWEEN {linhas1+1} AND {(linhas1+1)+linhas2} THEN 2\n",
        "  WHEN PAYMENT_TYPE = 0 AND ROW_NUMBER BETWEEN  {((linhas1+1)+linhas2)+1} AND {(((linhas1+1)+linhas2)+1)+linhas3} THEN 3\n",
        "  WHEN PAYMENT_TYPE = 0 AND ROW_NUMBER BETWEEN {((((linhas1+1)+linhas2)+1)+linhas3)+1} AND {(((((linhas1+1)+linhas2)+1)+linhas3)+1)+linhas4} THEN 4\n",
        "  WHEN PAYMENT_TYPE = 0 AND ROW_NUMBER BETWEEN {((((((linhas1+1)+linhas2)+1)+linhas3)+1)+linhas4)+1} AND {(((((((linhas1+1)+linhas2)+1)+linhas3)+1)+linhas4)+1)+linhas5} THEN 5\n",
        "  WHEN PAYMENT_TYPE = 0 AND ROW_NUMBER BETWEEN {((((((((linhas1+1)+linhas2)+1)+linhas3)+1)+linhas4)+1)+linhas5)+1} AND {(((((((((linhas1+1)+linhas2)+1)+linhas3)+1)+linhas4)+1)+linhas5)+1)+linhas6} THEN 6\n",
        "  ELSE PAYMENT_TYPE\n",
        "  END payment_type, earnings\n",
        "FROM zeros\n",
        "where payment_type = 0\n",
        "\n",
        "\"\"\").createOrReplaceTempView(\"zeros_trocados\")"
      ]
    },
    {
      "cell_type": "code",
      "execution_count": null,
      "metadata": {
        "colab": {
          "background_save": true
        },
        "id": "dLnaYwbmE3w_"
      },
      "outputs": [],
      "source": [
        "spark.sql(\"\"\"\n",
        "SELECT VendorID, tpep_pickup_datetime, tpep_dropoff_datetime, trip_distance, payment_type, earnings\n",
        "FROM zeros_trocados\n",
        "\n",
        "UNION ALL\n",
        "\n",
        "SELECT VendorID, tpep_pickup_datetime, tpep_dropoff_datetime, trip_distance, payment_type, earnings\n",
        "FROM Corridas_Datas_Corrigidas_teste\n",
        "\n",
        "\"\"\").createOrReplaceTempView(\"Corrida_datas_e_zeros_corrigidas\")"
      ]
    },
    {
      "cell_type": "code",
      "execution_count": null,
      "metadata": {
        "colab": {
          "background_save": true
        },
        "id": "EMekfEyBx_kN"
      },
      "outputs": [],
      "source": [
        "total_payment = spark.sql('select count(*) from Corrida_datas_e_zeros_corrigidas').collect()[0][0]\n",
        "\n",
        "frequencias_novo = spark.sql(f\"\"\"\n",
        "with  as (\n",
        "    select count(*) from Corrida_datas_e_zeros_corrigidas\n",
        ")\n",
        "SELECT payment_type, COUNT(*) AS QTD, (COUNT(*) * 100.0 / {total_payment}) Frequencia\n",
        "FROM Corrida_datas_e_zeros_corrigidas\n",
        "\n",
        "group by payment_type\n",
        "order by payment_type\n",
        "\"\"\").collect()"
      ]
    },
    {
      "cell_type": "code",
      "execution_count": null,
      "metadata": {
        "colab": {
          "background_save": true
        },
        "id": "bydS792Z2St_"
      },
      "outputs": [],
      "source": [
        "from pyspark.sql import Row\n",
        "\n",
        "data = [\n",
        "    Row(Payment_Type=antigo[0], Quantidade_antes=antigo[1], Frequencia_antes=antigo[2],\n",
        "        Quantidade_apos_limpeza=novo[1], Frequencia_apos_limpeza=novo[2])\n",
        "    for antigo, novo in zip(frequencias, frequencias_novo)\n",
        "]\n",
        "\n",
        "\n",
        "spark.createDataFrame(data).show(truncate=False)\n"
      ]
    },
    {
      "cell_type": "markdown",
      "metadata": {
        "id": "kjxvCFGP1V7T"
      },
      "source": [
        "\n",
        "Como é possível perceber, as quantidades de cada payment_type foi ligeiramente aumentada e a frequência se manteve quase que inalterada, sendo alterada somente em casas decimais muito precisas, devido ao arredondamento da contagem de linhas."
      ]
    },
    {
      "cell_type": "code",
      "execution_count": null,
      "metadata": {
        "colab": {
          "background_save": true
        },
        "id": "9rMn7DGIF7_3"
      },
      "outputs": [],
      "source": [
        "spark.sql(\"\"\"\n",
        "SELECT *\n",
        "FROM Corrida_datas_e_zeros_corrigidas\n",
        "\n",
        "\"\"\").createOrReplaceTempView(\"Fato_Corridas\")"
      ]
    },
    {
      "cell_type": "code",
      "execution_count": null,
      "metadata": {
        "colab": {
          "background_save": true
        },
        "id": "_PBk2cN7aXXr"
      },
      "outputs": [],
      "source": [
        "fato_corridas = spark.table(\"Fato_Corridas\")\n",
        "fato_corridas.write.mode(\"overwrite\").parquet(\"Fato_Corridas\")"
      ]
    },
    {
      "cell_type": "code",
      "execution_count": null,
      "metadata": {
        "colab": {
          "background_save": true
        },
        "id": "rYxWa1H0b342"
      },
      "outputs": [],
      "source": [
        "fato_corridas = spark.read.parquet('Fato_Corridas')\n",
        "fato_corridas.createOrReplaceTempView('Fato_Corridas')"
      ]
    },
    {
      "cell_type": "markdown",
      "metadata": {
        "id": "srKxSV3sKI3z"
      },
      "source": [
        "Finalmente temos nosso dataset limpo em um PARQUET chamado Fato_Corridas, que será nossa tabela fato utilizada em nossas análises. Essa tabela fato tem os seguintes atributos:\n",
        "\n",
        "- VendorID\n",
        "- tpep_pickup_datetime\n",
        "- tpep_dropoff_datetime\n",
        "- trip_distance\n",
        "- payment_type\n",
        "- earnings"
      ]
    },
    {
      "cell_type": "markdown",
      "metadata": {
        "id": "tSSNBydAi4ea"
      },
      "source": [
        "## 3: Análise"
      ]
    },
    {
      "cell_type": "markdown",
      "metadata": {
        "id": "Aq59gD12FNPh"
      },
      "source": [
        "### Pergunta 1: Qual o ganho médio por milha por mês por cada taxista durante todo o ano de 2022?\n",
        "\n"
      ]
    },
    {
      "cell_type": "code",
      "execution_count": null,
      "metadata": {
        "colab": {
          "background_save": true
        },
        "id": "G2tbOJaiCF1i"
      },
      "outputs": [],
      "source": [
        "spark.sql(\"\"\"\n",
        "SELECT\n",
        "    COALESCE(CAST(VendorID AS STRING), 'TOTAL GERAL') AS VendorID,\n",
        "    COALESCE(YEAR(tpep_dropoff_datetime), 'TOTAL ANUAL') AS ANO_ID,\n",
        "    COALESCE(date_format(tpep_dropoff_datetime, \"MM\"), 'TOTAL MENSAL') AS MES_ID,\n",
        "    ROUND(SUM(EARNINGS)/SUM(TRIP_DISTANCE), 2) AS GANHO_MEDIO_MES_MILHA\n",
        "FROM\n",
        "    Fato_Corridas\n",
        "GROUP BY\n",
        "    ROLLUP(VendorID, YEAR(tpep_dropoff_datetime), date_format(tpep_dropoff_datetime, \"MM\"))\n",
        "ORDER BY\n",
        "    VendorID, ANO_ID, MES_ID\n",
        "\"\"\").show(100)"
      ]
    },
    {
      "cell_type": "markdown",
      "metadata": {
        "id": "4UIopIigGQi9"
      },
      "source": [
        "### Pergunta 2: Qual a taxa de corrida canceladas por mês para os taxistas que possuem o ganho médio por milha superior a média geral para o ano de 2022? Para obtermos essa resposta temos que:"
      ]
    },
    {
      "cell_type": "code",
      "execution_count": null,
      "metadata": {
        "colab": {
          "background_save": true
        },
        "id": "0wXpjp_kDurL"
      },
      "outputs": [],
      "source": [
        "media_geral_ganho_por_milha = spark.sql(\"\"\"\n",
        "  SELECT SUM(earnings)/SUM(trip_distance) as Media_Geral\n",
        "  FROM Fato_Corridas\n",
        "\"\"\").collect()[0][0]\n",
        "media_geral_ganho_por_milha"
      ]
    },
    {
      "cell_type": "code",
      "execution_count": null,
      "metadata": {
        "colab": {
          "background_save": true
        },
        "id": "mmmabHRYP0zb"
      },
      "outputs": [],
      "source": [
        "spark.sql(f\"\"\"\n",
        "SELECT\n",
        "    A.VendorID,\n",
        "    COALESCE(ROUND((C.Corridas_Canceladas)*100/B.Corridas_Totais,2),0) as Taxa_Cancelamento\n",
        "FROM\n",
        "(\n",
        "    SELECT\n",
        "        VendorID,\n",
        "        SUM(earnings) / SUM(trip_distance) AS Media_Geral\n",
        "    FROM\n",
        "        Fato_Corridas\n",
        "    GROUP BY\n",
        "        VendorID\n",
        "    HAVING\n",
        "        SUM(earnings) / SUM(trip_distance) > {media_geral_ganho_por_milha}\n",
        ") AS A\n",
        " JOIN\n",
        "(\n",
        "    SELECT\n",
        "        VendorID,\n",
        "        COUNT(*) AS Corridas_Totais\n",
        "    FROM\n",
        "        Fato_Corridas\n",
        "    GROUP BY\n",
        "        VendorID\n",
        ") AS B\n",
        "ON\n",
        "    A.VendorID = B.VendorID\n",
        "left JOIN\n",
        "(\n",
        "    SELECT\n",
        "        VendorID,\n",
        "        COUNT(*) AS Corridas_Canceladas\n",
        "    FROM\n",
        "        Fato_Corridas\n",
        "    WHERE\n",
        "        payment_type = 6\n",
        "    GROUP BY\n",
        "        VendorID\n",
        ") AS C\n",
        "ON\n",
        "    B.VendorID = C.VendorID\n",
        "order by taxa_cancelamento desc\n",
        "\"\"\").show()"
      ]
    },
    {
      "cell_type": "markdown",
      "metadata": {
        "id": "TKxItawMGWjw"
      },
      "source": [
        "### Pergunta 3: Qual o ganho médio para os top-10 taxistas que mais rodaram por mês durante o ano de 2022?\n",
        "Dessa análise entendemos que precisamos descobrir: Qual o ganho médio para os top-10 taxistas que mais rodaram por mês durante o ano de 2022?"
      ]
    },
    {
      "cell_type": "code",
      "execution_count": null,
      "metadata": {
        "colab": {
          "background_save": true
        },
        "id": "904mXxbAGevu"
      },
      "outputs": [],
      "source": [
        "spark.sql(\"\"\"\n",
        "SELECT\n",
        "A.VendorID,\n",
        "B.Ganho_Medio_Mensal,\n",
        "A.distancia_percorrida\n",
        "\n",
        "FROM(\n",
        "SELECT VendorID, distancia_percorrida\n",
        "from(\n",
        "SELECT VendorID, SUM(trip_distance) distancia_percorrida\n",
        "FROM Fato_Corridas\n",
        "GROUP BY VendorID\n",
        ")\n",
        "order by distancia_percorrida desc\n",
        "LIMIT 10)\n",
        "AS A\n",
        "JOIN\n",
        "(\n",
        "SELECT VendorID, ROUND(SUM(earnings)/12,2) as Ganho_Medio_Mensal\n",
        "FROM Fato_Corridas\n",
        "GROUP BY VendorID\n",
        ")\n",
        "as B\n",
        "ON A.VendorID = B.VendorID\n",
        "order by A.distancia_percorrida desc\n",
        "\"\"\").show()"
      ]
    },
    {
      "cell_type": "markdown",
      "metadata": {
        "id": "jTH9cNeqailU"
      },
      "source": [
        "### Suponha que incida uma taxa de 2% sobre cartão de crédito. Refaça as três análises anteriores."
      ]
    },
    {
      "cell_type": "markdown",
      "metadata": {
        "id": "4iJshCEWjLdn"
      },
      "source": [
        "#### Pergunta 1.2\n",
        "\n",
        "Para responder as perguntas considerando a taxa de 2% sobre corridas no cartão de crédito. Iremos repetir a mesma consulta, porém de uma view diferente. View essa que ajustamos o ganho de cada corrida de payment_type = 1 (cartão de crédito) como sendo 98% do original."
      ]
    },
    {
      "cell_type": "code",
      "execution_count": null,
      "metadata": {
        "colab": {
          "background_save": true
        },
        "id": "_d9AW3EcavGJ"
      },
      "outputs": [],
      "source": [
        "spark.sql(\"\"\"\n",
        "SELECT VendorID, tpep_pickup_datetime, tpep_dropoff_datetime, trip_distance, payment_type, earnings_com_taxa as earnings\n",
        "FROM\n",
        "(SELECT *,\n",
        "CASE\n",
        "  WHEN (payment_type = 1) THEN earnings*0.98\n",
        "  ELSE earnings\n",
        "  END as earnings_com_taxa\n",
        "FROM Fato_Corridas)\n",
        "\"\"\").createOrReplaceTempView(\"Corridas_Com_Taxa\")"
      ]
    },
    {
      "cell_type": "code",
      "execution_count": null,
      "metadata": {
        "colab": {
          "background_save": true
        },
        "id": "QAxAzzNdsF5M"
      },
      "outputs": [],
      "source": [
        "spark.sql(\"\"\"\n",
        "SELECT\n",
        "    COALESCE(CAST(VendorID AS STRING), 'TOTAL GERAL') AS VendorID,\n",
        "    COALESCE(YEAR(tpep_dropoff_datetime), 'TOTAL ANUAL') AS ANO_ID,\n",
        "    COALESCE(date_format(tpep_dropoff_datetime, \"MM\"), 'TOTAL MENSAL') AS MES_ID,\n",
        "    ROUND(SUM(EARNINGS)/SUM(TRIP_DISTANCE), 2) AS GANHO_MEDIO_MES_MILHA\n",
        "FROM\n",
        "    Corridas_Com_Taxa\n",
        "GROUP BY\n",
        "    ROLLUP(VendorID, YEAR(tpep_dropoff_datetime), date_format(tpep_dropoff_datetime, \"MM\"))\n",
        "ORDER BY\n",
        "    VendorID, ANO_ID, MES_ID\n",
        "\"\"\").show(100)\n"
      ]
    },
    {
      "cell_type": "markdown",
      "metadata": {
        "id": "v54mVwIcdf-e"
      },
      "source": [
        "#### Pergunta 2.2:\n"
      ]
    },
    {
      "cell_type": "code",
      "execution_count": null,
      "metadata": {
        "colab": {
          "background_save": true
        },
        "id": "i8xYSYKZdjtW"
      },
      "outputs": [],
      "source": [
        "media_milha_geral_com_taxa = spark.sql(\"\"\"\n",
        "  SELECT SUM(earnings)/SUM(trip_distance) as Media_Geral\n",
        "  FROM Corridas_Com_Taxa\n",
        "\"\"\").collect()[0][0]\n",
        "media_milha_geral_com_taxa"
      ]
    },
    {
      "cell_type": "code",
      "execution_count": null,
      "metadata": {
        "colab": {
          "background_save": true
        },
        "id": "P9VLozcjdthv"
      },
      "outputs": [],
      "source": [
        "spark.sql(f\"\"\"\n",
        "SELECT\n",
        "    A.VendorID,\n",
        "    COALESCE(ROUND((C.Corridas_Canceladas)*100/B.Corridas_Totais,2),0) as Taxa_Cancelamento\n",
        "FROM\n",
        "(\n",
        "    SELECT\n",
        "        VendorID,\n",
        "        SUM(earnings) / SUM(trip_distance) AS Media_Geral\n",
        "    FROM\n",
        "        Corridas_Com_Taxa\n",
        "    GROUP BY\n",
        "        VendorID\n",
        "    HAVING\n",
        "        SUM(earnings) / SUM(trip_distance) > {media_milha_geral_com_taxa}\n",
        ") AS A\n",
        " JOIN\n",
        "(\n",
        "    SELECT\n",
        "        VendorID,\n",
        "        COUNT(*) AS Corridas_Totais\n",
        "    FROM\n",
        "        Corridas_Com_Taxa\n",
        "    GROUP BY\n",
        "        VendorID\n",
        ") AS B\n",
        "ON\n",
        "    A.VendorID = B.VendorID\n",
        "left JOIN\n",
        "(\n",
        "    SELECT\n",
        "        VendorID,\n",
        "        COUNT(*) AS Corridas_Canceladas\n",
        "    FROM\n",
        "        Corridas_Com_Taxa\n",
        "    WHERE\n",
        "        payment_type = 6\n",
        "    GROUP BY\n",
        "        VendorID\n",
        ") AS C\n",
        "ON\n",
        "    B.VendorID = C.VendorID\n",
        "order by taxa_cancelamento desc\n",
        "\"\"\").show()"
      ]
    },
    {
      "cell_type": "markdown",
      "metadata": {
        "id": "mBlLaZd3d036"
      },
      "source": [
        "#### Pergunta 3.2"
      ]
    },
    {
      "cell_type": "code",
      "execution_count": null,
      "metadata": {
        "colab": {
          "background_save": true
        },
        "id": "Md1C1MD1dxkn"
      },
      "outputs": [],
      "source": [
        "spark.sql(\"\"\"\n",
        "SELECT\n",
        "A.VendorID,\n",
        "B.Ganho_Medio_Mensal\n",
        " FROM(\n",
        "SELECT VendorID, SUM(trip_distance)\n",
        "FROM Corridas_Com_Taxa\n",
        "GROUP BY VendorID\n",
        "ORDER BY sum(trip_distance) desc\n",
        "LIMIT 10)\n",
        "AS A\n",
        "JOIN\n",
        "(\n",
        "SELECT VendorID, ROUND(SUM(earnings)/12,2) as Ganho_Medio_Mensal\n",
        "FROM Corridas_Com_Taxa\n",
        "GROUP BY VendorID\n",
        ")\n",
        "as B\n",
        "ON A.VendorID = B.VendorID\n",
        "ORDER BY Ganho_Medio_Mensal desc\n",
        "\"\"\").show()"
      ]
    }
  ],
  "metadata": {
    "colab": {
      "provenance": [],
      "include_colab_link": true
    },
    "kernelspec": {
      "display_name": "Python 3",
      "name": "python3"
    },
    "language_info": {
      "name": "python"
    }
  },
  "nbformat": 4,
  "nbformat_minor": 0
}